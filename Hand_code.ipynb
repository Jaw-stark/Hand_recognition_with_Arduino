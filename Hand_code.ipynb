{
 "cells": [
  {
   "cell_type": "code",
   "execution_count": 1,
   "id": "c6a01c26",
   "metadata": {},
   "outputs": [],
   "source": [
    "# import necessary libraries\n",
    "import cv2\n",
    "import mediapipe as mp\n",
    "import time\n",
    "import led_connect as lc"
   ]
  },
  {
   "cell_type": "code",
   "execution_count": 2,
   "id": "9822d57e",
   "metadata": {},
   "outputs": [],
   "source": [
    "# sleep\n",
    "time.sleep(2.0)\n",
    "\n",
    "# Since we are dealing with hands create solution appropiately\n",
    "mp_draw = mp.solutions.drawing_utils\n",
    "mp_hand = mp.solutions.hands"
   ]
  },
  {
   "cell_type": "code",
   "execution_count": 3,
   "id": "b85097ea",
   "metadata": {},
   "outputs": [],
   "source": [
    "# Note the hand tips\n",
    "''' Hand tips:\n",
    "        small_finger = 4\n",
    "        ring_finger = 8\n",
    "        middle_finger = 12\n",
    "        index_finger = 16\n",
    "        thumb = 20            \n",
    "'''\n",
    "tipsids = [4,8,12,16,20]\n",
    "# call the video reading module from cv2 library\n",
    "video = cv2.VideoCapture(0)"
   ]
  },
  {
   "cell_type": "code",
   "execution_count": 4,
   "id": "8c5459ee",
   "metadata": {},
   "outputs": [],
   "source": [
    "# Use the landmarks from the hand\n",
    "with mp_hand.Hands(min_detection_confidence=0.5, min_tracking_confidence=0.5) as hands:\n",
    "    while True:\n",
    "        ret, image = video.read()\n",
    "        image = cv2.cvtColor(image, cv2.COLOR_BGR2RGB)\n",
    "        image.flags.writeable = False\n",
    "        results = hands.process(image)\n",
    "        image.flags.writeable = True\n",
    "        image = cv2.cvtColor(image, cv2.COLOR_RGB2BGR)\n",
    "        lmlist = []\n",
    "        if results.multi_hand_landmarks:\n",
    "            for hand_landmark in results.multi_hand_landmarks:\n",
    "                myHands = results.multi_hand_landmarks[0]\n",
    "                for id, lm in enumerate(myHands.landmark):\n",
    "                    h, w, c = image.shape\n",
    "                    cx, cy = int(lm.x * w), int(lm.y * h)\n",
    "                    lmlist.append([id, cx, cy])\n",
    "                mp_draw.draw_landmarks(image, hand_landmark, mp_hand.HAND_CONNECTIONS)\n",
    "        fingers = []\n",
    "        if len(lmlist)!= 0:\n",
    "            if lmlist[tipsids[0]][1] > lmlist[tipsids[0]-1][1]:\n",
    "                fingers.append(1)\n",
    "            else:\n",
    "                fingers.append(0)\n",
    "            for id in range(1, 5):\n",
    "                if lmlist[tipsids[id]][2] < lmlist[tipsids[id]-2][2]:\n",
    "                    fingers.append(1)\n",
    "                else:\n",
    "                    fingers.append(0)\n",
    "            total = fingers.count(1)\n",
    "            lc.led(total)\n",
    "            if total == 0:\n",
    "                cv2.rectangle(image, (20, 300), (270, 425), (0, 255, 0), cv2.FONT_HERSHEY_SIMPLEX)\n",
    "                cv2.putText(image, \"0\", (45, 375), cv2.FONT_HERSHEY_SIMPLEX, 2,(255, 0, 0), 5)\n",
    "                cv2.putText(image, \"LED\", (100, 375), cv2.FONT_HERSHEY_SIMPLEX, 2,(255, 0, 0), 5)\n",
    "            elif total == 1:\n",
    "                cv2.rectangle(image, (20, 300), (270, 425), (0, 255, 0), cv2.FONT_HERSHEY_SIMPLEX)\n",
    "                cv2.putText(image, \"1\", (45, 375), cv2.FONT_HERSHEY_SIMPLEX, 2,(255, 0, 0), 5)\n",
    "                cv2.putText(image, \"LED\", (100, 375), cv2.FONT_HERSHEY_SIMPLEX, 2,(255, 0, 0), 5)\n",
    "            elif total == 2:\n",
    "                cv2.rectangle(image, (20, 300), (270, 425), (0, 255, 0), cv2.FONT_HERSHEY_SIMPLEX)\n",
    "                cv2.putText(image, \"2\", (45, 375), cv2.FONT_HERSHEY_SIMPLEX, 2,(255, 0, 0), 5)\n",
    "                cv2.putText(image, \"LED\", (100, 375), cv2.FONT_HERSHEY_SIMPLEX, 2,(255, 0, 0), 5)\n",
    "            elif total == 3:\n",
    "                cv2.rectangle(image, (20, 300), (270, 425), (0, 255, 0), cv2.FONT_HERSHEY_SIMPLEX)\n",
    "                cv2.putText(image, \"3\", (45, 375), cv2.FONT_HERSHEY_SIMPLEX, 2,(255, 0, 0), 5)\n",
    "                cv2.putText(image, \"LED\", (100, 375), cv2.FONT_HERSHEY_SIMPLEX, 2,(255, 0, 0), 5)\n",
    "            elif total == 4:\n",
    "                cv2.rectangle(image, (20, 300), (270, 425), (0, 255, 0), cv2.FONT_HERSHEY_SIMPLEX)\n",
    "                cv2.putText(image, \"4\", (45, 375), cv2.FONT_HERSHEY_SIMPLEX, 2,(255, 0, 0), 5)\n",
    "                cv2.putText(image, \"LED\", (100, 375), cv2.FONT_HERSHEY_SIMPLEX, 2,(255, 0, 0), 5)\n",
    "            elif total == 5:\n",
    "                cv2.rectangle(image, (20, 300), (270, 425), (0, 255, 0), cv2.FONT_HERSHEY_SIMPLEX)\n",
    "                cv2.putText(image, \"5\", (45, 375), cv2.FONT_HERSHEY_SIMPLEX, 2,(255, 0, 0), 5)\n",
    "                cv2.putText(image, \"LED\", (100, 375), cv2.FONT_HERSHEY_SIMPLEX, 2,(255, 0, 0), 5)\n",
    "            \n",
    "        cv2.imshow(\"Frame\", image)\n",
    "        k = cv2.waitKey(1)\n",
    "        if k == ord(\"q\"):\n",
    "            break\n",
    "video.release()\n",
    "cv2.destroyAllWindows()"
   ]
  }
 ],
 "metadata": {
  "kernelspec": {
   "display_name": "Python 3 (ipykernel)",
   "language": "python",
   "name": "python3"
  },
  "language_info": {
   "codemirror_mode": {
    "name": "ipython",
    "version": 3
   },
   "file_extension": ".py",
   "mimetype": "text/x-python",
   "name": "python",
   "nbconvert_exporter": "python",
   "pygments_lexer": "ipython3",
   "version": "3.11.5"
  }
 },
 "nbformat": 4,
 "nbformat_minor": 5
}
